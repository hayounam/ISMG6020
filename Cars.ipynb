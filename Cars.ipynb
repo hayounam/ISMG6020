causee{
 "cells": [
  {
   "cell_type": "code",
   "execution_count": 22,
   "metadata": {},
   "outputs": [
    {
     "name": "stdout",
     "output_type": "stream",
     "text": [
      "(1, 'Audi', 52642.0)\n",
      "(2, 'Mercedes', 57127.0)\n"
     ]
    }
   ],
   "source": [
    "# Create cars database and add two items with specific IDs\n",
    "import sqlite3 \n",
    "\n",
    "conn = sqlite3.connect('cars.sqlite')\n",
    "cur = conn.cursor()\n",
    "\n",
    "cur.execute(\"CREATE TABLE IF NOT EXISTS cars(id INTEGER PRIMARY KEY AUTOINCREMENT, name TEXT, price REAL)\")\n",
    "cur.execute(\"INSERT INTO cars VALUES(1,'Audi',52642)\")\n",
    "cur.execute(\"INSERT INTO cars VALUES(2,'Mercedes',57127)\")\n",
    "\n",
    "for row in cur.execute('SELECT * FROM cars'):\n",
    "     print(row)\n",
    "\n",
    "conn.commit()"
   ]
  },
  {
   "cell_type": "code",
   "execution_count": 23,
   "metadata": {},
   "outputs": [
    {
     "name": "stdout",
     "output_type": "stream",
     "text": [
      "(1, 'Audi', 52642.0)\n",
      "(2, 'Mercedes', 57127.0)\n",
      "(3, 'Skoda', 9000.0)\n",
      "(4, 'Volvo', 29000.0)\n",
      "(5, 'Bentley', 350000.0)\n",
      "(6, 'Hummer', 41400.0)\n",
      "(7, 'Volkswagen', 21600.0)\n"
     ]
    }
   ],
   "source": [
    "# Add rows to cars database\n",
    "cars = [('Skoda', 9000),\n",
    "        ('Volvo', 29000),\n",
    "        ('Bentley', 350000),\n",
    "        ('Hummer', 41400),\n",
    "        ('Volkswagen', 21600)]\n",
    "\n",
    "cur.executemany(\"INSERT INTO cars (name, price) VALUES(?, ?)\", cars)\n",
    "\n",
    "conn.commit()\n",
    "\n",
    "for row in cur.execute('SELECT * FROM cars'):\n",
    "    print(row)\n",
    "\n",
    "#closes the connection\n",
    "conn.close()"
   ]
  },
  {
   "cell_type": "code",
   "execution_count": 24,
   "metadata": {},
   "outputs": [
    {
     "name": "stdout",
     "output_type": "stream",
     "text": [
      "Total number of rows updated : 4\n",
      "Rows updated in this query: 3\n",
      "\n",
      "ID =  1\n",
      "NAME =  Audi\n",
      "PRICE =  62300.0\n",
      "\n",
      "ID =  2\n",
      "NAME =  Mercedes\n",
      "PRICE =  61127.0\n",
      "\n",
      "ID =  3\n",
      "NAME =  Skoda\n",
      "PRICE =  9000.0\n",
      "\n",
      "ID =  4\n",
      "NAME =  Volvo\n",
      "PRICE =  31000.0\n",
      "\n",
      "ID =  5\n",
      "NAME =  Bentley\n",
      "PRICE =  375000.0\n",
      "\n",
      "ID =  6\n",
      "NAME =  Hummer\n",
      "PRICE =  41400.0\n",
      "\n",
      "ID =  7\n",
      "NAME =  Volkswagen\n",
      "PRICE =  21600.0\n"
     ]
    }
   ],
   "source": [
    "# Reopen connection because closed above then use update query\n",
    "import sqlite3\n",
    "\n",
    "conn = sqlite3.connect('cars.sqlite')\n",
    "cur = conn.cursor()\n",
    "\n",
    "cur.execute(\"UPDATE cars set price = 62300 where id=?\", (\"1\"))\n",
    "conn.commit()\n",
    "\n",
    "new_prices = [(61127, 2),\n",
    "              (31000, 4),\n",
    "              (375000, 5)]\n",
    "\n",
    "cur.executemany(\"UPDATE cars set price = ? where id = ?\", new_prices)\n",
    "print(\"Total number of rows updated :\", conn.total_changes) \n",
    "print(\"Rows updated in this query:\", cur.rowcount)\n",
    "\n",
    "conn.commit()\n",
    "\n",
    "cur.execute(\"SELECT id, name, price from cars\") \n",
    "for row in cur: \n",
    "    print(\"\\nID = \", row[0]) \n",
    "    print(\"NAME = \", row[1]) \n",
    "    print(\"PRICE = \", row[2])"
   ]
  },
  {
   "cell_type": "code",
   "execution_count": 27,
   "metadata": {},
   "outputs": [
    {
     "name": "stdout",
     "output_type": "stream",
     "text": [
      "Rows deleted in this query: 0\n",
      "(1, 'Audi', 62300.0)\n",
      "(2, 'Mercedes', 61127.0)\n",
      "(4, 'Volvo', 31000.0)\n",
      "(5, 'Bentley', 375000.0)\n",
      "(6, 'Hummer', 41400.0)\n",
      "(7, 'Volkswagen', 21600.0)\n"
     ]
    }
   ],
   "source": [
    "# Use dlete query\n",
    "import sqlite3\n",
    "\n",
    "conn = sqlite3.connect('cars.sqlite')\n",
    "cur = conn.cursor()\n",
    "\n",
    "cur.execute(\"DELETE from cars where ID = 3;\")\n",
    "#dont forget to commit otherwise rows will look like they are deleted but will not really be deleted\n",
    "conn.commit()\n",
    "\n",
    "print(\"Rows deleted in this query:\", cur.rowcount)\n",
    "\n",
    "cur.execute(\"SELECT id, name, price from cars\") \n",
    "for row in cur: \n",
    "    print(row) "
   ]
  },
  {
   "cell_type": "code",
   "execution_count": 31,
   "metadata": {},
   "outputs": [
    {
     "name": "stdout",
     "output_type": "stream",
     "text": [
      "Total number of rows updated : 4\n",
      "Rows updated in this query: 3\n",
      "\n",
      "ID =  1\n",
      "NAME =  Audi\n",
      "PRICE =  62300.0\n",
      "\n",
      "ID =  2\n",
      "NAME =  Mercedes\n",
      "PRICE =  61127.0\n",
      "\n",
      "ID =  4\n",
      "NAME =  Volvo\n",
      "PRICE =  31000.0\n",
      "\n",
      "ID =  5\n",
      "NAME =  Bentley\n",
      "PRICE =  375000.0\n",
      "\n",
      "ID =  6\n",
      "NAME =  Hummer\n",
      "PRICE =  41400.0\n",
      "\n",
      "ID =  7\n",
      "NAME =  Volkswagen\n",
      "PRICE =  21600.0\n"
     ]
    }
   ],
   "source": [
    "import sqlite3\n",
    "\n",
    "conn = sqlite3.connect('cars.sqlite')\n",
    "cur = conn.cursor()\n",
    "\n",
    "cur.execute(\"UPDATE cars set price = 62300 where id = 1\")\n",
    "conn.commit()\n",
    "\n",
    "new_prices = [(61127, 2),\n",
    "              (31000, 4),\n",
    "              (375000, 5)]\n",
    "\n",
    "cur.executemany(\"UPDATE cars set price = ? where id = ?\", new_prices)\n",
    "print(\"Total number of rows updated :\", conn.total_changes) \n",
    "print(\"Rows updated in this query:\", cur.rowcount)\n",
    "\n",
    "cur.execute(\"SELECT id, name, price from cars\") \n",
    "for row in cur: \n",
    "   print(\"\\nID = \", row[0]) \n",
    "   print(\"NAME = \", row[1]) \n",
    "   print(\"PRICE = \", row[2])"
   ]
  },
  {
   "cell_type": "code",
   "execution_count": 33,
   "metadata": {},
   "outputs": [
    {
     "name": "stdout",
     "output_type": "stream",
     "text": [
      "Rows deleted in this query: 1\n",
      "(1, 'Audi', 62300.0)\n",
      "(2, 'Mercedes', 61127.0)\n",
      "(5, 'Bentley', 375000.0)\n",
      "(6, 'Hummer', 41400.0)\n",
      "(7, 'Volkswagen', 21600.0)\n"
     ]
    }
   ],
   "source": [
    "import sqlite3\n",
    "\n",
    "conn = sqlite3.connect('cars.sqlite')\n",
    "cur = conn.cursor()\n",
    "\n",
    "cur.execute(\"DELETE from cars where ID = 4;\")\n",
    "conn.commit()\n",
    "print(\"Rows deleted in this query:\", cur.rowcount)\n",
    "\n",
    "cur.execute(\"SELECT id, name, price from cars\") \n",
    "for row in cur: \n",
    "   print(row) "
   ]
  },
  {
   "cell_type": "code",
   "execution_count": null,
   "metadata": {},
   "outputs": [],
   "source": []
  },
  {
   "cell_type": "code",
   "execution_count": null,
   "metadata": {},
   "outputs": [],
   "source": []
  }
 ],
 "metadata": {
  "kernelspec": {
   "display_name": "Python 3 (ipykernel)",
   "language": "python",
   "name": "python3"
  },
  "language_info": {
   "codemirror_mode": {
    "name": "ipython",
    "version": 3
   },
   "file_extension": ".py",
   "mimetype": "text/x-python",
   "name": "python",
   "nbconvert_exporter": "python",
   "pygments_lexer": "ipython3",
   "version": "3.9.13"
  }
 },
 "nbformat": 4,
 "nbformat_minor": 2
}
