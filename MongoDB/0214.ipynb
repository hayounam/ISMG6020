{
 "cells": [
  {
   "cell_type": "code",
   "execution_count": 23,
   "id": "79c7a15a",
   "metadata": {},
   "outputs": [
    {
     "name": "stdout",
     "output_type": "stream",
     "text": [
      "Art: 453, Price per unit:    59.06\n"
     ]
    }
   ],
   "source": [
    "print(\"Art: {0:d}, Price per unit: {1:8.2f}\".format(453,59.058) )\n"
   ]
  },
  {
   "cell_type": "code",
   "execution_count": 10,
   "id": "58043405",
   "metadata": {},
   "outputs": [
    {
     "name": "stdout",
     "output_type": "stream",
     "text": [
      "Art:   453,  Price per unit:    59.06\n"
     ]
    }
   ],
   "source": [
    "print(\"Art: {a:5d},  Price per unit: {p:8.2f}\".format(a=453, p=59.058))\n"
   ]
  },
  {
   "cell_type": "code",
   "execution_count": 15,
   "id": "f55f366f",
   "metadata": {},
   "outputs": [
    {
     "name": "stdout",
     "output_type": "stream",
     "text": [
      "Spam & Eggs:           6.99\n",
      "        Spam & Eggs:   6.99\n"
     ]
    }
   ],
   "source": [
    "# Left align and provide argument number\n",
    "s1 = \"{0:<20s} {1:6.2f}\".format('Spam & Eggs:', 6.99)\n",
    "# Right Align and do not provide argument number\n",
    "s2 = \"{:>20s} {:6.2f}\".format('Spam & Eggs:', 6.99)\n",
    "print(s1)\n",
    "print(s2)"
   ]
  },
  {
   "cell_type": "code",
   "execution_count": 20,
   "id": "d082417c",
   "metadata": {},
   "outputs": [
    {
     "name": "stdout",
     "output_type": "stream",
     "text": [
      "For only 49.9844 dollars!\n"
     ]
    }
   ],
   "source": [
    "txt = \"For only {price:.4f} dollars!\"\n",
    "print(txt.format(price = 49.98438))"
   ]
  },
  {
   "cell_type": "code",
   "execution_count": 21,
   "id": "35f31f42",
   "metadata": {},
   "outputs": [
    {
     "name": "stdout",
     "output_type": "stream",
     "text": [
      "year: 2023\n",
      "month: 02\n",
      "day: 14\n",
      "time: 09:04:41\n",
      "date and time: 02/14/2023, 09:04:41\n"
     ]
    }
   ],
   "source": [
    "import datetime\n",
    "\n",
    "now = datetime.datetime.now() # current date and time\n",
    "\n",
    "year = now.strftime(\"%Y\")\n",
    "print(\"year:\", year)\n",
    "\n",
    "month = now.strftime(\"%m\")\n",
    "print(\"month:\", month)\n",
    "\n",
    "day = now.strftime(\"%d\")\n",
    "print(\"day:\", day)\n",
    "\n",
    "time = now.strftime(\"%H:%M:%S\")\n",
    "print(\"time:\", time)\n",
    "\n",
    "date_time = now.strftime(\"%m/%d/%Y, %H:%M:%S\")\n",
    "print(\"date and time:\",date_time)"
   ]
  },
  {
   "cell_type": "code",
   "execution_count": null,
   "id": "b9af1a8e",
   "metadata": {},
   "outputs": [],
   "source": []
  }
 ],
 "metadata": {
  "kernelspec": {
   "display_name": "Python 3 (ipykernel)",
   "language": "python",
   "name": "python3"
  },
  "language_info": {
   "codemirror_mode": {
    "name": "ipython",
    "version": 3
   },
   "file_extension": ".py",
   "mimetype": "text/x-python",
   "name": "python",
   "nbconvert_exporter": "python",
   "pygments_lexer": "ipython3",
   "version": "3.9.13"
  }
 },
 "nbformat": 4,
 "nbformat_minor": 5
}
