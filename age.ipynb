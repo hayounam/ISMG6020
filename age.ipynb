{
 "cells": [
  {
   "cell_type": "code",
   "execution_count": 11,
   "id": "c58405d6",
   "metadata": {},
   "outputs": [
    {
     "name": "stdout",
     "output_type": "stream",
     "text": [
      "Please enter your age: xxx\n",
      "Sorry, I didn't understand that.\n",
      "Please enter your age: -33\n",
      "Sorry, your response must not be negative.\n",
      "Please enter your age: 33\n",
      "You are old enough to vote in the United States!\n"
     ]
    }
   ],
   "source": [
    "while True:\n",
    "    try:\n",
    "        age = int(input(\"Please enter your age: \"))\n",
    "        if age < 0:\n",
    "            print(\"Sorry, your response must not be negative.\")\n",
    "        else:\n",
    "            if age >= 18:\n",
    "                print(\"You are old enough to vote in the United States!\")\n",
    "            else:\n",
    "                print(\"You are not able to vote in the United States.\")\n",
    "            break # Only break out of the loop if age is a number AND is not negative\n",
    "    except ValueError:\n",
    "        print(\"Sorry, I didn't understand that.\")\n"
   ]
  },
  {
   "cell_type": "code",
   "execution_count": null,
   "id": "3687dc80",
   "metadata": {},
   "outputs": [],
   "source": []
  },
  {
   "cell_type": "code",
   "execution_count": null,
   "id": "50a58e95",
   "metadata": {},
   "outputs": [],
   "source": []
  }
 ],
 "metadata": {
  "kernelspec": {
   "display_name": "Python 3 (ipykernel)",
   "language": "python",
   "name": "python3"
  },
  "language_info": {
   "codemirror_mode": {
    "name": "ipython",
    "version": 3
   },
   "file_extension": ".py",
   "mimetype": "text/x-python",
   "name": "python",
   "nbconvert_exporter": "python",
   "pygments_lexer": "ipython3",
   "version": "3.9.13"
  }
 },
 "nbformat": 4,
 "nbformat_minor": 5
}
